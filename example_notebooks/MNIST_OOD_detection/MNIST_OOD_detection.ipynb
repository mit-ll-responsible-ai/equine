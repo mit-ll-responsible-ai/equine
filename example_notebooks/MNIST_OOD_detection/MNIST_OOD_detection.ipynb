{
 "cells": [
  {
   "attachments": {},
   "cell_type": "markdown",
   "metadata": {},
   "source": [
    "# EQUINE Image Classification Example\n",
    "\n",
    "This notebook walks through a simple application of a Neural Network trained on a vision task -- predicting a clothing article in the FashionMNIST dataset -- as applied to image data from that and from regular MNIST, a handwritten digit dataset. In this, we load the datasets, train a model, wrap the model with two EQUINE architectures, and demonstrate out-of-distribution performance. \n",
    "\n",
    "This notebook requires some extra dependencies to run. You can uncomment the below cell to install them into your local environment."
   ]
  },
  {
   "cell_type": "code",
   "execution_count": null,
   "metadata": {},
   "outputs": [],
   "source": [
    "#!pip install matplotlib, torchvision"
   ]
  },
  {
   "cell_type": "code",
   "execution_count": 2,
   "metadata": {},
   "outputs": [],
   "source": [
    "import equine as eq\n",
    "import numpy as np\n",
    "np.set_printoptions(precision=3)\n",
    "\n",
    "import torch\n",
    "from torchvision import datasets\n",
    "from torchvision.transforms import ToTensor\n",
    "import torch.nn.functional as F\n",
    "from sklearn.metrics import roc_auc_score\n",
    "import matplotlib.pyplot as plt"
   ]
  },
  {
   "attachments": {},
   "cell_type": "markdown",
   "metadata": {},
   "source": [
    "### 1. Load MNIST and FashionMNIST Datasets"
   ]
  },
  {
   "cell_type": "code",
   "execution_count": 3,
   "metadata": {},
   "outputs": [],
   "source": [
    "training_data = datasets.FashionMNIST(\n",
    "    root=\"data\",\n",
    "    train=True,\n",
    "    download=True,\n",
    "    transform=ToTensor(),\n",
    ")\n",
    "\n",
    "# Download test data from open datasets.\n",
    "test_data = datasets.FashionMNIST(\n",
    "    root=\"data\",\n",
    "    train=False,\n",
    "    download=True,\n",
    "    transform=ToTensor(),\n",
    ")\n",
    "\n",
    "X_train = training_data.data\n",
    "Y_train = training_data.targets\n",
    "X_train = X_train.type(torch.float32)\n",
    "X_train = torch.unsqueeze(X_train, 1)\n",
    "\n",
    "X_test = test_data.data\n",
    "Y_test = test_data.targets\n",
    "X_test = X_test.type(torch.float32)\n",
    "X_test = torch.unsqueeze(X_test, 1)\n",
    "\n",
    "trainloader = torch.utils.data.DataLoader(training_data,batch_size=64,shuffle=True, drop_last=True)\n",
    "testloader = torch.utils.data.DataLoader(test_data,batch_size=64,shuffle=True, drop_last=True)\n",
    "\n",
    "ood_data = datasets.MNIST(\n",
    "    root=\"data\",\n",
    "    train=False,\n",
    "    download=True,\n",
    "    transform=ToTensor(),\n",
    ")\n",
    "X_ood = ood_data.data\n",
    "X_ood = X_ood.type(torch.float32)\n",
    "X_ood = torch.unsqueeze(X_ood, 1)\n",
    "\n",
    "oodloader = torch.utils.data.DataLoader(ood_data,batch_size=64,shuffle=True, drop_last=True)"
   ]
  },
  {
   "attachments": {},
   "cell_type": "markdown",
   "metadata": {},
   "source": [
    "### 2. Create Embedding Model\n",
    "\n",
    "We define a simple CNN using the LeNet architecture and our embedding model which allows freezing layers if weights are passed during initialization."
   ]
  },
  {
   "cell_type": "code",
   "execution_count": 4,
   "metadata": {},
   "outputs": [],
   "source": [
    "class LeNet(torch.nn.Module):\n",
    "\n",
    "    def __init__(self):\n",
    "        super(LeNet, self).__init__()\n",
    "        self.conv1 = torch.nn.Conv2d(1, 6, 5, padding=2)\n",
    "        self.conv2 = torch.nn.Conv2d(6, 16, 5)\n",
    "        self.fc1   = torch.nn.Linear(16*5*5, 120)\n",
    "        self.fc2   = torch.nn.Linear(120, 84)\n",
    "        self.fc3   = torch.nn.Linear(84, 10)\n",
    "\n",
    "    def forward(self, x):\n",
    "        x = F.max_pool2d(F.relu(self.conv1(x)), (2, 2))\n",
    "        x = F.max_pool2d(F.relu(self.conv2(x)), (2, 2))\n",
    "        x = x.view(-1, self.num_flat_features(x))\n",
    "        x = F.relu(self.fc1(x))\n",
    "        x = F.relu(self.fc2(x))\n",
    "        x = self.fc3(x)\n",
    "        return x\n",
    "\n",
    "    def num_flat_features(self, x):\n",
    "        size = x.size()[1:]\n",
    "        return np.prod(size)\n",
    "\n",
    "class EmbeddingModel(LeNet):\n",
    "\n",
    "    # passing in weights for a layer will freeze that layer\n",
    "    # and it will not be updated during training\n",
    "    def __init__(self, conv1_weights=None, conv2_weights=None, fc1_weights=None, \n",
    "                 fc2_weights=None, fc3_weights=None):\n",
    "        super(EmbeddingModel, self).__init__()\n",
    "        self.conv1 = torch.nn.Conv2d(1, 6, 5, padding=2)\n",
    "        if conv1_weights is not None:\n",
    "            self.conv1.weight = conv1_weights\n",
    "            self.conv1.weight.requires_grad = False\n",
    "        self.conv2 = torch.nn.Conv2d(6, 16, 5)\n",
    "        if conv2_weights is not None:\n",
    "            self.conv2.weight = conv2_weights\n",
    "            self.conv2.weight.requires_grad = False\n",
    "        self.fc1 = torch.nn.Linear(16*5*5, 120)\n",
    "        if conv1_weights is not None:\n",
    "            self.fc1.weight = fc1_weights\n",
    "            self.fc1.weight.requires_grad = False\n",
    "        self.fc2 = torch.nn.Linear(120, 84)\n",
    "        if fc2_weights is not None:\n",
    "            self.fc2.weight = fc2_weights\n",
    "            self.fc2.weight.requires_grad = False\n",
    "        self.fc3 = torch.nn.Linear(84, 10)\n",
    "        if fc3_weights is not None:\n",
    "            self.fc3.weight = fc3_weights\n",
    "            self.fc3.weight.requires_grad = False"
   ]
  },
  {
   "attachments": {},
   "cell_type": "markdown",
   "metadata": {},
   "source": [
    "We train the model for 30 epochs using SGD with two scheduled drops in learning rate."
   ]
  },
  {
   "cell_type": "code",
   "execution_count": 5,
   "metadata": {},
   "outputs": [
    {
     "name": "stdout",
     "output_type": "stream",
     "text": [
      "Training acc for epoch 0: 0.675\n",
      "Training acc for epoch 1: 0.759\n",
      "Training acc for epoch 2: 0.796\n",
      "Training acc for epoch 3: 0.817\n",
      "Training acc for epoch 4: 0.832\n",
      "Training acc for epoch 5: 0.842\n",
      "Training acc for epoch 6: 0.851\n",
      "Training acc for epoch 7: 0.858\n",
      "Training acc for epoch 8: 0.863\n",
      "Training acc for epoch 9: 0.868\n",
      "Training acc for epoch 10: 0.873\n",
      "Training acc for epoch 11: 0.876\n",
      "Training acc for epoch 12: 0.880\n",
      "Training acc for epoch 13: 0.883\n",
      "Training acc for epoch 14: 0.886\n",
      "Training acc for epoch 15: 0.888\n",
      "Training acc for epoch 16: 0.891\n",
      "Training acc for epoch 17: 0.893\n",
      "Training acc for epoch 18: 0.895\n",
      "Training acc for epoch 19: 0.898\n",
      "Training acc for epoch 20: 0.900\n",
      "Training acc for epoch 21: 0.903\n",
      "Training acc for epoch 22: 0.905\n",
      "Training acc for epoch 23: 0.907\n",
      "Training acc for epoch 24: 0.910\n",
      "Training acc for epoch 25: 0.912\n",
      "Training acc for epoch 26: 0.914\n",
      "Training acc for epoch 27: 0.915\n",
      "Training acc for epoch 28: 0.917\n",
      "Training acc for epoch 29: 0.919\n"
     ]
    }
   ],
   "source": [
    "model_orig = EmbeddingModel()\n",
    "loss_fn = torch.nn.CrossEntropyLoss()\n",
    "opt = torch.optim.SGD(\n",
    "        model_orig.parameters(),\n",
    "        lr=0.01,\n",
    "        momentum=0.9,\n",
    "        weight_decay=0.0001,\n",
    "    )\n",
    "scheduler = torch.optim.lr_scheduler.MultiStepLR(opt, milestones=[20,25], gamma=0.1)\n",
    "\n",
    "from torchmetrics.classification import MulticlassAccuracy as MulticlassAccuracy\n",
    "train_accuracy = MulticlassAccuracy(10)\n",
    "for epoch in range(30):\n",
    "    epoch_loss = 0.0\n",
    "    for i, (xs, labels) in enumerate(trainloader):\n",
    "        opt.zero_grad()\n",
    "        yhats = model_orig(xs)\n",
    "        loss = loss_fn(yhats, labels)\n",
    "        batch_acc = train_accuracy(yhats, labels)\n",
    "        loss.backward()\n",
    "        opt.step()\n",
    "        epoch_loss += loss.item()\n",
    "    #print(epoch_loss)\n",
    "    total_train_accuracy = train_accuracy.compute()\n",
    "    scheduler.step()\n",
    "\n",
    "    print(\"Training acc for epoch {}: {:.3f}\".format(epoch, total_train_accuracy))"
   ]
  },
  {
   "attachments": {},
   "cell_type": "markdown",
   "metadata": {},
   "source": [
    "To evaluate the model, we first consider it's accuracy on the test dataset and then look at how well it's predictive probabilities allow us to separate in distribution data from out of distribution data.  To do this, we compute the entropy of the predictive probability distribution.  Ideally, the model will produce predictions with low entropy for in distribution data and predictions with high entropy for out of distribution data."
   ]
  },
  {
   "cell_type": "code",
   "execution_count": 6,
   "metadata": {},
   "outputs": [
    {
     "name": "stdout",
     "output_type": "stream",
     "text": [
      "Model accuracy on test set: 0.907\n"
     ]
    },
    {
     "data": {
      "image/png": "[encoded data removed]",
      "text/plain": [
       "<Figure size 640x480 with 1 Axes>"
      ]
     },
     "metadata": {},
     "output_type": "display_data"
    },
    {
     "name": "stdout",
     "output_type": "stream",
     "text": [
      "AUROC for detecting out of distribution examples: 0.627\n"
     ]
    }
   ],
   "source": [
    "model_orig.eval()\n",
    "\n",
    "oods_in_dist = []\n",
    "predictions = []\n",
    "true_labels = []\n",
    "for i, (xs, labels) in enumerate(testloader):\n",
    "    y_pred = model_orig(xs).detach().numpy()\n",
    "    oods = np.sum(scipy.special.entr(scipy.special.softmax(y_pred, axis=1)), axis=1)\n",
    "    oods_in_dist.extend(list(oods))\n",
    "    predictions.extend(list(np.argmax(y_pred, axis=1)))\n",
    "    true_labels.extend(list(labels))\n",
    "predictions = np.array(predictions)\n",
    "true_labels = np.array(true_labels)\n",
    "print('Model accuracy on test set: {:.3f}'.format(np.mean(predictions == true_labels)))\n",
    "    \n",
    "oods_out_dist = []\n",
    "for i, (xs, labels) in enumerate(oodloader):\n",
    "    y_pred = model_orig(xs).detach().numpy()\n",
    "    oods = np.sum(scipy.special.entr(scipy.special.softmax(y_pred, axis=1)), axis=1)\n",
    "    oods_out_dist.extend(list(oods))\n",
    "    \n",
    "plt.hist(oods_in_dist,bins=np.linspace(0,3,61),alpha=0.5, label='In Distribution')\n",
    "plt.hist(oods_out_dist,bins=np.linspace(0,3,61),alpha=0.5, label='Out of Distribution')\n",
    "plt.xlabel('Entropy')\n",
    "plt.ylabel('Count')\n",
    "plt.legend()\n",
    "plt.show()\n",
    "roc = roc_auc_score(np.hstack((np.ones_like(oods_out_dist),np.zeros_like(oods_in_dist))),\n",
    "              oods_out_dist+oods_in_dist)\n",
    "print('AUROC for detecting out of distribution examples: {:.3f}'.format(roc))"
   ]
  },
  {
   "attachments": {},
   "cell_type": "markdown",
   "metadata": {},
   "source": [
    "While the original model performs well on the in distribution test data, its predictive probabilities do not allow us to discriminate between in distribution and out of distribution data.  For example, the model confidently predicts below that the digit 7 is class 5 in the FashionMNIST data (a sandal)."
   ]
  },
  {
   "cell_type": "code",
   "execution_count": 7,
   "metadata": {},
   "outputs": [
    {
     "data": {
      "image/png": "[encoded data removed]",
      "text/plain": [
       "<Figure size 640x480 with 1 Axes>"
      ]
     },
     "metadata": {},
     "output_type": "display_data"
    },
    {
     "name": "stdout",
     "output_type": "stream",
     "text": [
      "Predictive probabilities:\n",
      "[[1. 0. 0. 0. 0. 0. 0. 0. 0. 0.]]\n"
     ]
    }
   ],
   "source": [
    "plt.imshow(X_ood[0:1].reshape(28,28), cmap=\"gray\")\n",
    "plt.show()\n",
    "print('Predictive probabilities:')\n",
    "print(scipy.special.softmax(model_orig(X_ood[0:1]).detach().numpy(), axis=1))"
   ]
  },
  {
   "attachments": {},
   "cell_type": "markdown",
   "metadata": {},
   "source": [
    "Seeing the limitations of the original model, we will now freeze all but the output layer and wrap the model with two different equine models."
   ]
  },
  {
   "attachments": {},
   "cell_type": "markdown",
   "metadata": {},
   "source": [
    "### 3. Wrap embedding model with EquineGP\n",
    "\n",
    "We first create a new EmbeddingModel, passing in the weights for the first four layers that we learned above.  We then wrap that EmbeddingModel in EquineGP.  The resulting model has an extra Gaussian Process \"layer\" on top of the original model."
   ]
  },
  {
   "cell_type": "code",
   "execution_count": 8,
   "metadata": {},
   "outputs": [],
   "source": [
    "model_GP = eq.EquineGP(EmbeddingModel(model_orig.conv1.weight, \n",
    "                                   model_orig.conv2.weight, \n",
    "                                   model_orig.fc1.weight, \n",
    "                                   model_orig.fc2.weight), \n",
    "                    emb_out_dim=10, num_classes = 10)"
   ]
  },
  {
   "attachments": {},
   "cell_type": "markdown",
   "metadata": {},
   "source": [
    "We now train for a few more epochs to fine tune the last layer of the original model and learn the parameters in the Gaussian Process layer."
   ]
  },
  {
   "cell_type": "code",
   "execution_count": 9,
   "metadata": {},
   "outputs": [
    {
     "name": "stderr",
     "output_type": "stream",
     "text": [
      "100%|██████████| 5/5 [00:40<00:00,  8.11s/it]\n"
     ]
    },
    {
     "data": {
      "text/plain": [
       "{'numTrainExamples': [{'label': 0, 'numExamples': 6000},\n",
       "  {'label': 1, 'numExamples': 6000},\n",
       "  {'label': 2, 'numExamples': 6000},\n",
       "  {'label': 3, 'numExamples': 6000},\n",
       "  {'label': 4, 'numExamples': 6000},\n",
       "  {'label': 5, 'numExamples': 6000},\n",
       "  {'label': 6, 'numExamples': 6000},\n",
       "  {'label': 7, 'numExamples': 6000},\n",
       "  {'label': 8, 'numExamples': 6000},\n",
       "  {'label': 9, 'numExamples': 6000}],\n",
       " 'dateTrained': '06/14/2023, 13:28:51',\n",
       " 'modelType': 'EquineGP'}"
      ]
     },
     "execution_count": 9,
     "metadata": {},
     "output_type": "execute_result"
    }
   ],
   "source": [
    "loss_fn = torch.nn.CrossEntropyLoss()\n",
    "optimizer = torch.optim.SGD(\n",
    "        model_GP.model.parameters(),\n",
    "        lr=0.001,\n",
    "        momentum=0.9,\n",
    "        weight_decay=0.0,\n",
    "    )\n",
    "model_GP.train_model(torch.utils.data.TensorDataset(X_train, Y_train), loss_fn, optimizer, 5)"
   ]
  },
  {
   "attachments": {},
   "cell_type": "markdown",
   "metadata": {},
   "source": [
    "We now compute the test accuracy and out of distribution results to compare with the original model."
   ]
  },
  {
   "cell_type": "code",
   "execution_count": 10,
   "metadata": {},
   "outputs": [
    {
     "name": "stdout",
     "output_type": "stream",
     "text": [
      "Model accuracy on test set: 0.892\n"
     ]
    },
    {
     "data": {
      "image/png": "[encoded data removed]",
      "text/plain": [
       "<Figure size 640x480 with 1 Axes>"
      ]
     },
     "metadata": {},
     "output_type": "display_data"
    },
    {
     "name": "stdout",
     "output_type": "stream",
     "text": [
      "AUROC for detecting out of distribution examples: 0.881\n"
     ]
    }
   ],
   "source": [
    "oods_in_dist = []\n",
    "predictions = []\n",
    "true_labels = []\n",
    "for i, (xs, labels) in enumerate(testloader):\n",
    "    y_pred = model_GP.predict(xs)\n",
    "    classes = y_pred.classes.detach().numpy()\n",
    "    oods = y_pred.ood_scores.detach().numpy()\n",
    "    oods_in_dist.extend(list(oods))\n",
    "    predictions.extend(list(np.argmax(classes, axis=1)))\n",
    "    true_labels.extend(list(labels))\n",
    "predictions = np.array(predictions)\n",
    "true_labels = np.array(true_labels)\n",
    "print('Model accuracy on test set: {:.3f}'.format(np.mean(predictions == true_labels)))\n",
    "    \n",
    "oods_out_dist = []\n",
    "for i, (xs, labels) in enumerate(oodloader):\n",
    "    y_pred = model_GP.predict(xs)\n",
    "    oods = y_pred.ood_scores.detach().numpy()\n",
    "    oods_out_dist.extend(list(oods))\n",
    "    \n",
    "plt.hist(oods_in_dist,bins=np.linspace(0,1,21),alpha=0.5, label='In Distribution')\n",
    "plt.hist(oods_out_dist,bins=np.linspace(0,1,21),alpha=0.5, label='Out of Distribution')\n",
    "plt.xlabel('OOD Score')\n",
    "plt.ylabel('Count')\n",
    "plt.legend()\n",
    "plt.show()\n",
    "roc = roc_auc_score(np.hstack((np.ones_like(oods_out_dist),np.zeros_like(oods_in_dist))),\n",
    "              oods_out_dist+oods_in_dist)\n",
    "print('AUROC for detecting out of distribution examples: {:.3f}'.format(roc))"
   ]
  },
  {
   "attachments": {},
   "cell_type": "markdown",
   "metadata": {},
   "source": [
    "The EquineGP model clearly does a much better job of separating the in distribution and out of distribution data.  Returning to the specific example below, the EquineGP model outputs an almost uniform distribution of predictive probabilities, which is appropriate since the example is unlike data that the model was trained on.  The EquineGP out of distribution score is the entropy of the probabilities scaled to between 0 and 1 and is computed internally."
   ]
  },
  {
   "cell_type": "code",
   "execution_count": 11,
   "metadata": {},
   "outputs": [
    {
     "data": {
      "image/png": "[encoded data removed]",
      "text/plain": [
       "<Figure size 640x480 with 1 Axes>"
      ]
     },
     "metadata": {},
     "output_type": "display_data"
    },
    {
     "name": "stdout",
     "output_type": "stream",
     "text": [
      "Predictive probabilities: [0.298 0.076 0.073 0.051 0.058 0.132 0.107 0.051 0.103 0.051]\n",
      "Out of distribution score: [0.916]\n"
     ]
    }
   ],
   "source": [
    "plt.imshow(X_ood[0:1].reshape(28,28), cmap=\"gray\")\n",
    "plt.show()\n",
    "print('Predictive probabilities: {}'.format(scipy.special.softmax(model_GP(X_ood[0:1]).detach().numpy(), axis=1)[0]))\n",
    "print('Out of distribution score: {}'.format(model_GP.predict(X_ood[0:1]).ood_scores.detach().numpy()))"
   ]
  },
  {
   "attachments": {},
   "cell_type": "markdown",
   "metadata": {},
   "source": [
    "### 4. Wrap embedding model with EquineProtonet\n",
    "\n",
    "Our second wrapper replaces the softmax output of the original model with a protonet."
   ]
  },
  {
   "cell_type": "code",
   "execution_count": 12,
   "metadata": {},
   "outputs": [],
   "source": [
    "model_Proto = eq.equine_protonet.EquineProtonet(EmbeddingModel(model_orig.conv1.weight, \n",
    "                                                         model_orig.conv2.weight, \n",
    "                                                         model_orig.fc1.weight, \n",
    "                                                         model_orig.fc2.weight), \n",
    "                                          10, relative_mahal=False)"
   ]
  },
  {
   "attachments": {},
   "cell_type": "markdown",
   "metadata": {},
   "source": [
    "To adapt to the new output, we fine tune the last layer."
   ]
  },
  {
   "cell_type": "code",
   "execution_count": 13,
   "metadata": {},
   "outputs": [
    {
     "name": "stderr",
     "output_type": "stream",
     "text": [
      "100%|██████████| 3000/3000 [04:14<00:00, 11.79it/s]\n"
     ]
    },
    {
     "data": {
      "text/plain": [
       "{'numTrainExamples': [{'label': 0, 'numExamples': 4800},\n",
       "  {'label': 1, 'numExamples': 4800},\n",
       "  {'label': 2, 'numExamples': 4800},\n",
       "  {'label': 3, 'numExamples': 4800},\n",
       "  {'label': 4, 'numExamples': 4800},\n",
       "  {'label': 5, 'numExamples': 4800},\n",
       "  {'label': 6, 'numExamples': 4800},\n",
       "  {'label': 7, 'numExamples': 4800},\n",
       "  {'label': 8, 'numExamples': 4800},\n",
       "  {'label': 9, 'numExamples': 4800}],\n",
       " 'dateTrained': '06/14/2023, 13:33:08',\n",
       " 'modelType': 'EquineProtonet'}"
      ]
     },
     "execution_count": 13,
     "metadata": {},
     "output_type": "execute_result"
    }
   ],
   "source": [
    "model_Proto.train_model(torch.utils.data.TensorDataset(X_train, Y_train), num_episodes=3000, \n",
    "                        support_size=10, \n",
    "                        way=10, \n",
    "                        episode_size=1000)"
   ]
  },
  {
   "attachments": {},
   "cell_type": "markdown",
   "metadata": {},
   "source": [
    "We now compute the test accuracy and out of distribution results to compare with the original model."
   ]
  },
  {
   "cell_type": "code",
   "execution_count": 14,
   "metadata": {},
   "outputs": [
    {
     "name": "stdout",
     "output_type": "stream",
     "text": [
      "Model accuracy on test set: 0.863\n"
     ]
    },
    {
     "data": {
      "image/png": "[encoded data removed]",
      "text/plain": [
       "<Figure size 640x480 with 1 Axes>"
      ]
     },
     "metadata": {},
     "output_type": "display_data"
    },
    {
     "name": "stdout",
     "output_type": "stream",
     "text": [
      "AUROC for detecting out of distribution examples: 0.936\n"
     ]
    }
   ],
   "source": [
    "oods_out_dist = model_Proto.predict(X_ood).ood_scores\n",
    "oods_out_dist = oods_out_dist.detach().numpy()\n",
    "oods_in_dist = model_Proto.predict(X_test).ood_scores\n",
    "oods_in_dist = oods_in_dist.detach().numpy()\n",
    "\n",
    "predictions = np.argmax(model_Proto.predict(X_test).classes.detach().numpy(), axis=1)\n",
    "print('Model accuracy on test set: {0:.3f}'.format(np.mean(predictions == Y_test.detach().numpy())))\n",
    "\n",
    "plt.hist(oods_in_dist,bins=np.linspace(0,1,21),alpha=0.5, label='In Distribution')\n",
    "plt.hist(oods_out_dist,bins=np.linspace(0,1,21),alpha=0.5, label='Out of Distribution')\n",
    "plt.xlabel('OOD Score')\n",
    "plt.ylabel('Count')\n",
    "plt.legend()\n",
    "plt.show()\n",
    "\n",
    "roc = roc_auc_score(np.hstack((np.ones_like(oods_out_dist),np.zeros_like(oods_in_dist))),\n",
    "              list(oods_out_dist)+list(oods_in_dist))\n",
    "print('AUROC for detecting out of distribution examples: {0:.3f}'.format(roc))"
   ]
  },
  {
   "attachments": {},
   "cell_type": "markdown",
   "metadata": {},
   "source": [
    "The protonet also does a good job of separating in distribution and out of distribution data, though its accuracy is lower than the original model for the Gaussian Process model.  The OOD score produced by the protonet is based on the distance to a representation of the closest class, rather than on the entropy of predictive probabilities.  One minus the OOD score of a particular example can be interpreted as the probability of observing an in distribution example that is further from its closest class representation than the example point.  As a result, the ood scores for the in distribution data roughly follow a uniform distribution.\n",
    "\n",
    "Below, we see that the out out of distribution example receives a high OOD score."
   ]
  },
  {
   "cell_type": "code",
   "execution_count": 15,
   "metadata": {},
   "outputs": [
    {
     "data": {
      "image/png": "[encoded data removed]",
      "text/plain": [
       "<Figure size 640x480 with 1 Axes>"
      ]
     },
     "metadata": {},
     "output_type": "display_data"
    },
    {
     "name": "stdout",
     "output_type": "stream",
     "text": [
      "Out of distribution score:\n",
      "[0.978]\n"
     ]
    }
   ],
   "source": [
    "plt.imshow(X_ood[0:1].reshape(28,28), cmap=\"gray\")\n",
    "plt.show()\n",
    "print('Out of distribution score:')\n",
    "print(model_Proto.predict(X_ood[0:1]).ood_scores.detach().numpy())"
   ]
  },
  {
   "cell_type": "code",
   "execution_count": null,
   "metadata": {},
   "outputs": [],
   "source": []
  }
 ],
 "metadata": {
  "kernelspec": {
   "display_name": "eq2",
   "language": "python",
   "name": "python3"
  },
  "language_info": {
   "codemirror_mode": {
    "name": "ipython",
    "version": 3
   },
   "file_extension": ".py",
   "mimetype": "text/x-python",
   "name": "python",
   "nbconvert_exporter": "python",
   "pygments_lexer": "ipython3",
   "version": "3.10.6"
  }
 },
 "nbformat": 4,
 "nbformat_minor": 4
}
